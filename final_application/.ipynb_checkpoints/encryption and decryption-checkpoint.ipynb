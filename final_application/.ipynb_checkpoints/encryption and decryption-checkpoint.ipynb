{
 "cells": [
  {
   "cell_type": "code",
   "execution_count": 1,
   "id": "8c1e9395",
   "metadata": {},
   "outputs": [
    {
     "name": "stdout",
     "output_type": "stream",
     "text": [
      "SHA-512 Hashed Password: 1624d453156b5100682a6913096f1052325661e025f3fba907424c5d8af5abd489488c890d4f3b524ef927a0a8e4eb595d17570559de30a572b3bfc9d6b35731\n"
     ]
    }
   ],
   "source": [
    "import hashlib\n",
    "\n",
    "# Password to be hashed\n",
    "voted_party = \"party-1\"\n",
    "\n",
    "# Create a new SHA-512 hash object\n",
    "sha512_hash = hashlib.sha512()\n",
    "\n",
    "# Update the hash object with the password bytes\n",
    "sha512_hash.update(voted_party.encode('utf-8'))\n",
    "\n",
    "# Get the hexadecimal representation of the hashed password\n",
    "hashed_password = sha512_hash.hexdigest()\n",
    "\n",
    "# Print the hashed password\n",
    "print(\"SHA-512 Hashed Password:\", hashed_password)\n"
   ]
  },
  {
   "cell_type": "code",
   "execution_count": 4,
   "id": "001d78b6",
   "metadata": {},
   "outputs": [
    {
     "name": "stdout",
     "output_type": "stream",
     "text": [
      "SHA-512 Hashed Password: 1624d453156b5100682a6913096f1052325661e025f3fba907424c5d8af5abd489488c890d4f3b524ef927a0a8e4eb595d17570559de30a572b3bfc9d6b35731\n"
     ]
    }
   ],
   "source": [
    "import hashlib\n",
    "\n",
    "# Password to be hashed\n",
    "voted_party = \"party-1\"\n",
    "\n",
    "# Create a new SHA-512 hash object\n",
    "sha512_hash = hashlib.sha512()\n",
    "\n",
    "# Update the hash object with the password bytes\n",
    "sha512_hash.update(voted_party.encode('utf-8'))\n",
    "\n",
    "# Get the hexadecimal representation of the hashed password\n",
    "hashed_password = sha512_hash.hexdigest()\n",
    "\n",
    "# Print the hashed password\n",
    "print(\"SHA-512 Hashed Password:\", hashed_password)\n"
   ]
  },
  {
   "cell_type": "code",
   "execution_count": 9,
   "id": "bc9c4aef",
   "metadata": {},
   "outputs": [
    {
     "name": "stdout",
     "output_type": "stream",
     "text": [
      "Original message (hex): 1624d453156b5100682a6913096f1052325661e025f3fba907424c5d8af5abd489488c890d4f3b524ef927a0a8e4eb595d17570559de30a572b3bfc9d6b35731\n",
      "Decrypted message (hex): 1624d453156b5100682a6913096f1052325661e025f3fba907424c5d8af5abd489488c890d4f3b524ef927a0a8e4eb595d17570559de30a572b3bfc9d6b35731\n"
     ]
    }
   ],
   "source": [
    "from cryptography.hazmat.backends import default_backend\n",
    "from cryptography.hazmat.primitives.asymmetric import rsa, padding\n",
    "from cryptography.hazmat.primitives import serialization, hashes\n",
    "import binascii\n",
    "\n",
    "# Generate RSA key pairs\n",
    "private_key = rsa.generate_private_key(\n",
    "    public_exponent=65537,\n",
    "    key_size=2048,\n",
    "    backend=default_backend()\n",
    ")\n",
    "\n",
    "public_key = private_key.public_key()\n",
    "\n",
    "# Serialize the keys\n",
    "private_pem = private_key.private_bytes(\n",
    "    encoding=serialization.Encoding.PEM,\n",
    "    format=serialization.PrivateFormat.PKCS8,\n",
    "    encryption_algorithm=serialization.NoEncryption()\n",
    ")\n",
    "\n",
    "public_pem = public_key.public_bytes(\n",
    "    encoding=serialization.Encoding.PEM,\n",
    "    format=serialization.PublicFormat.SubjectPublicKeyInfo\n",
    ")\n",
    "\n",
    "# Your input in hexadecimal format\n",
    "hex_input =hashed_password\n",
    "\n",
    "# Convert hexadecimal input to bytes\n",
    "message = binascii.unhexlify(hex_input)\n",
    "\n",
    "# Encrypt\n",
    "ciphertext = public_key.encrypt(\n",
    "    message,\n",
    "    padding.OAEP(\n",
    "        mgf=padding.MGF1(algorithm=hashes.SHA256()),\n",
    "        algorithm=hashes.SHA256(),\n",
    "        label=None\n",
    "    )\n",
    ")\n",
    "\n",
    "\n",
    "# Decrypt\n",
    "plaintext = private_key.decrypt(\n",
    "    ciphertext,\n",
    "    padding.OAEP(\n",
    "        mgf=padding.MGF1(algorithm=hashes.SHA256()),\n",
    "        algorithm=hashes.SHA256(),\n",
    "        label=None\n",
    "    )\n",
    ")\n",
    "\n",
    "# Convert the decrypted message to a hexadecimal string\n",
    "hex_decrypted_message = binascii.hexlify(plaintext).decode()\n",
    "\n",
    "print(\"Original message (hex):\", hex_input)\n",
    "print(\"Decrypted message (hex):\", hex_decrypted_message)\n"
   ]
  },
  {
   "cell_type": "code",
   "execution_count": null,
   "id": "e429dbd7",
   "metadata": {},
   "outputs": [],
   "source": []
  },
  {
   "cell_type": "code",
   "execution_count": null,
   "id": "30e5ece2",
   "metadata": {},
   "outputs": [],
   "source": []
  },
  {
   "cell_type": "code",
   "execution_count": null,
   "id": "51b7a074",
   "metadata": {},
   "outputs": [],
   "source": []
  },
  {
   "cell_type": "code",
   "execution_count": 1,
   "id": "c3758a94",
   "metadata": {},
   "outputs": [
    {
     "name": "stdout",
     "output_type": "stream",
     "text": [
      "Original message: Hello, this is a test message.\n",
      "Decrypted message: Hello, this is a test message.\n"
     ]
    }
   ],
   "source": [
    "from cryptography.hazmat.backends import default_backend\n",
    "from cryptography.hazmat.primitives.asymmetric import rsa, padding\n",
    "from cryptography.hazmat.primitives import serialization, hashes\n",
    "import binascii\n",
    "\n",
    "# Function to save keys to files\n",
    "def save_keys(private_key, public_key):\n",
    "    with open(\"private_key.pem\", \"wb\") as f:\n",
    "        f.write(private_key)\n",
    "\n",
    "    with open(\"public_key.pem\", \"wb\") as f:\n",
    "        f.write(public_key)\n",
    "\n",
    "# Function to load keys from files\n",
    "def load_keys():\n",
    "    with open(\"private_key.pem\", \"rb\") as f:\n",
    "        private_key = serialization.load_pem_private_key(\n",
    "            f.read(),\n",
    "            password=None,\n",
    "            backend=default_backend()\n",
    "        )\n",
    "\n",
    "    with open(\"public_key.pem\", \"rb\") as f:\n",
    "        public_key = serialization.load_pem_public_key(\n",
    "            f.read(),\n",
    "            backend=default_backend()\n",
    "        )\n",
    "\n",
    "    return private_key, public_key\n",
    "\n",
    "# Generate RSA key pairs\n",
    "private_key = rsa.generate_private_key(\n",
    "    public_exponent=65537,\n",
    "    key_size=2048,\n",
    "    backend=default_backend()\n",
    ")\n",
    "\n",
    "public_key = private_key.public_key()\n",
    "\n",
    "# Serialize the keys\n",
    "private_pem = private_key.private_bytes(\n",
    "    encoding=serialization.Encoding.PEM,\n",
    "    format=serialization.PrivateFormat.PKCS8,\n",
    "    encryption_algorithm=serialization.NoEncryption()\n",
    ")\n",
    "\n",
    "public_pem = public_key.public_bytes(\n",
    "    encoding=serialization.Encoding.PEM,\n",
    "    format=serialization.PublicFormat.SubjectPublicKeyInfo\n",
    ")\n",
    "\n",
    "# Save keys to files\n",
    "save_keys(private_pem, public_pem)\n",
    "\n",
    "# Load keys from files\n",
    "loaded_private_key, loaded_public_key = load_keys()\n",
    "\n",
    "# Example text to encrypt\n",
    "message = b\"Hello, this is a test message.\"\n",
    "\n",
    "# Encrypt using loaded public key\n",
    "ciphertext = loaded_public_key.encrypt(\n",
    "    message,\n",
    "    padding.OAEP(\n",
    "        mgf=padding.MGF1(algorithm=hashes.SHA256()),\n",
    "        algorithm=hashes.SHA256(),\n",
    "        label=None\n",
    "    )\n",
    ")\n",
    "\n",
    "# Decrypt using loaded private key\n",
    "plaintext = loaded_private_key.decrypt(\n",
    "    ciphertext,\n",
    "    padding.OAEP(\n",
    "        mgf=padding.MGF1(algorithm=hashes.SHA256()),\n",
    "        algorithm=hashes.SHA256(),\n",
    "        label=None\n",
    "    )\n",
    ")\n",
    "\n",
    "print(\"Original message:\", message.decode())\n",
    "print(\"Decrypted message:\", plaintext.decode())\n"
   ]
  },
  {
   "cell_type": "code",
   "execution_count": null,
   "id": "14e42f7b",
   "metadata": {},
   "outputs": [],
   "source": []
  },
  {
   "cell_type": "code",
   "execution_count": null,
   "id": "f853efc8",
   "metadata": {},
   "outputs": [],
   "source": []
  },
  {
   "cell_type": "code",
   "execution_count": null,
   "id": "d4ec18d4",
   "metadata": {},
   "outputs": [],
   "source": []
  },
  {
   "cell_type": "code",
   "execution_count": null,
   "id": "12c4517e",
   "metadata": {},
   "outputs": [],
   "source": []
  },
  {
   "cell_type": "code",
   "execution_count": null,
   "id": "9e5a36fa",
   "metadata": {},
   "outputs": [],
   "source": []
  },
  {
   "cell_type": "code",
   "execution_count": 2,
   "id": "a96bda38",
   "metadata": {},
   "outputs": [
    {
     "name": "stdout",
     "output_type": "stream",
     "text": [
      "Original message: Hello, this is a test message.\n",
      "Decrypted message: Hello, this is a test message.\n"
     ]
    }
   ],
   "source": [
    "from cryptography.hazmat.backends import default_backend\n",
    "from cryptography.hazmat.primitives.asymmetric import rsa, padding\n",
    "from cryptography.hazmat.primitives import serialization, hashes\n",
    "import binascii\n",
    "\n",
    "\n",
    "# Function to load keys from files\n",
    "def load_keys():\n",
    "    with open(\"private_key.pem\", \"rb\") as f:\n",
    "        private_key = serialization.load_pem_private_key(\n",
    "            f.read(),\n",
    "            password=None,\n",
    "            backend=default_backend()\n",
    "        )\n",
    "\n",
    "    with open(\"public_key.pem\", \"rb\") as f:\n",
    "        public_key = serialization.load_pem_public_key(\n",
    "            f.read(),\n",
    "            backend=default_backend()\n",
    "        )\n",
    "\n",
    "    return private_key, public_key\n",
    "\n",
    "# Load keys from files\n",
    "loaded_private_key, loaded_public_key = load_keys()\n",
    "\n",
    "# Example text to encrypt\n",
    "message = b\"Hello, this is a test message.\"\n",
    "\n",
    "\n",
    "\n",
    "# Decrypt using loaded private key\n",
    "plaintext = loaded_private_key.decrypt(\n",
    "    ciphertext,\n",
    "    padding.OAEP(\n",
    "        mgf=padding.MGF1(algorithm=hashes.SHA256()),\n",
    "        algorithm=hashes.SHA256(),\n",
    "        label=None\n",
    "    )\n",
    ")\n",
    "\n",
    "print(\"Original message:\", message.decode())\n",
    "print(\"Decrypted message:\", plaintext.decode())\n"
   ]
  },
  {
   "cell_type": "code",
   "execution_count": null,
   "id": "cd49cc6f",
   "metadata": {},
   "outputs": [],
   "source": []
  },
  {
   "cell_type": "code",
   "execution_count": null,
   "id": "8b602e01",
   "metadata": {},
   "outputs": [],
   "source": []
  }
 ],
 "metadata": {
  "kernelspec": {
   "display_name": "agri",
   "language": "python",
   "name": "agri"
  },
  "language_info": {
   "codemirror_mode": {
    "name": "ipython",
    "version": 3
   },
   "file_extension": ".py",
   "mimetype": "text/x-python",
   "name": "python",
   "nbconvert_exporter": "python",
   "pygments_lexer": "ipython3",
   "version": "3.7.11"
  }
 },
 "nbformat": 4,
 "nbformat_minor": 5
}
